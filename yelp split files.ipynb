{
 "cells": [
  {
   "cell_type": "code",
   "execution_count": 13,
   "id": "cc2743c5-1fed-4a6d-870d-b9889e975dea",
   "metadata": {},
   "outputs": [
    {
     "name": "stdout",
     "output_type": "stream",
     "text": [
      "Total lines: 6990280, Lines per file: 699028\n",
      "✅ Done splitting the JSON file!\n"
     ]
    }
   ],
   "source": [
    "input_file = \"yelp_academic_dataset_review.json\"\n",
    "output_prefix = \"split_file_\"\n",
    "num_files = 10\n",
    "\n",
    "with open(input_file, \"r\", encoding=\"utf8\") as f:\n",
    "    total_lines = sum(1 for _ in f)\n",
    "\n",
    "lines_per_file = total_lines // num_files\n",
    "print(f\"Total lines: {total_lines}, Lines per file: {lines_per_file}\")\n",
    "\n",
    "with open(input_file, \"r\", encoding=\"utf8\") as f:\n",
    "    for i in range(num_files):\n",
    "        output_filename = f\"{output_prefix}{i+1}.json\"\n",
    "        with open(output_filename, \"w\", encoding=\"utf8\") as out_file:\n",
    "            for j in range(lines_per_file):\n",
    "                line = f.readline()\n",
    "                if not line:\n",
    "                    break\n",
    "                out_file.write(line)\n",
    "\n",
    "print(\"✅ Done splitting the JSON file!\")\n"
   ]
  },
  {
   "cell_type": "code",
   "execution_count": 9,
   "id": "2a222fa1-d8d0-4cfe-9e1e-5dda9cc25baa",
   "metadata": {},
   "outputs": [
    {
     "name": "stdout",
     "output_type": "stream",
     "text": [
      "/Users/tejesh/Desktop/Yelp JSON\n"
     ]
    }
   ],
   "source": [
    "import os\n",
    "print(os.getcwd())\n",
    "\n"
   ]
  },
  {
   "cell_type": "code",
   "execution_count": 11,
   "id": "a3ad4ae2-531b-4554-b9ce-7a5a0084b04a",
   "metadata": {},
   "outputs": [
    {
     "name": "stdout",
     "output_type": "stream",
     "text": [
      "Files in current folder:\n",
      "['Yelp Dataset Documentation & ToS copy.pdf', 'yelp_dataset.tar', '.DS_Store', 'yelp_dataset', 'yelp split files.ipynb', 'yelp_academic_dataset_review.json', '.ipynb_checkpoints']\n"
     ]
    }
   ],
   "source": [
    "print(\"Files in current folder:\")\n",
    "print(os.listdir())\n",
    "\n"
   ]
  },
  {
   "cell_type": "code",
   "execution_count": null,
   "id": "38a15301-d5a6-49e0-9e37-2e6e87912325",
   "metadata": {},
   "outputs": [],
   "source": []
  }
 ],
 "metadata": {
  "kernelspec": {
   "display_name": "Python 3 (ipykernel)",
   "language": "python",
   "name": "python3"
  },
  "language_info": {
   "codemirror_mode": {
    "name": "ipython",
    "version": 3
   },
   "file_extension": ".py",
   "mimetype": "text/x-python",
   "name": "python",
   "nbconvert_exporter": "python",
   "pygments_lexer": "ipython3",
   "version": "3.12.7"
  }
 },
 "nbformat": 4,
 "nbformat_minor": 5
}
